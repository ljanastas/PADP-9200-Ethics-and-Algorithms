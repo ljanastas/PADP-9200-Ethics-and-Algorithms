{
  "nbformat": 4,
  "nbformat_minor": 0,
  "metadata": {
    "colab": {
      "name": "Problem Set 3_Solutions.ipynb",
      "provenance": [],
      "collapsed_sections": [],
      "authorship_tag": "ABX9TyOUuXSA9MttFs576tRF3bGu",
      "include_colab_link": true
    },
    "kernelspec": {
      "name": "ir",
      "display_name": "R"
    }
  },
  "cells": [
    {
      "cell_type": "markdown",
      "metadata": {
        "id": "view-in-github",
        "colab_type": "text"
      },
      "source": [
        "<a href=\"https://colab.research.google.com/github/ljanastas/PADP-9200-Ethics-and-Algorithms/blob/master/Problem_Set_3_Solutions.ipynb\" target=\"_parent\"><img src=\"https://colab.research.google.com/assets/colab-badge.svg\" alt=\"Open In Colab\"/></a>"
      ]
    },
    {
      "cell_type": "markdown",
      "metadata": {
        "id": "v1EURENbExAl",
        "colab_type": "text"
      },
      "source": [
        "# [POLS 9500]: Problem Set 3 SOLUTIONS\n",
        "\n",
        "\n",
        "# The data\n",
        "The data were gathered from end of semester student evaluations for a large sample of professors from the University of Texas at Austin. In addition, six students rated the professors’ physical appearance. (This is aslightly modified version of the original data set that was released as part of the replication data for Data Analysis Using Regression and Multilevel/Hierarchical Models (Gelman and Hill, 2007).) The result is a data frame where each row contains a different course and columns represent variables about the courses and professors.\n",
        "  \n",
        "# Predicting student ratings using random forests\n",
        "\n",
        "For this problem set we will be training a random forest model to predict student ratings of 'very good' or 'excellent'. "
      ]
    },
    {
      "cell_type": "code",
      "metadata": {
        "id": "-upsVQsz8wM1",
        "colab_type": "code",
        "colab": {
          "base_uri": "https://localhost:8080/",
          "height": 327
        },
        "outputId": "d676767f-4111-49ad-82f1-bddbe476a227"
      },
      "source": [
        "head(evals)"
      ],
      "execution_count": 27,
      "outputs": [
        {
          "output_type": "display_data",
          "data": {
            "text/plain": [
              "  score rank         ethnicity    gender language age cls_perc_eval\n",
              "1 4.7   tenure track minority     female english  36  55.81395     \n",
              "2 4.1   tenure track minority     female english  36  68.80000     \n",
              "3 3.9   tenure track minority     female english  36  60.80000     \n",
              "4 4.8   tenure track minority     female english  36  62.60163     \n",
              "5 4.6   tenured      not minority male   english  59  85.00000     \n",
              "6 4.3   tenured      not minority male   english  59  87.50000     \n",
              "  cls_did_eval cls_students cls_level ⋯ cls_credits  bty_f1lower bty_f1upper\n",
              "1 24            43          upper     ⋯ multi credit 5           7          \n",
              "2 86           125          upper     ⋯ multi credit 5           7          \n",
              "3 76           125          upper     ⋯ multi credit 5           7          \n",
              "4 77           123          upper     ⋯ multi credit 5           7          \n",
              "5 17            20          upper     ⋯ multi credit 4           4          \n",
              "6 35            40          upper     ⋯ multi credit 4           4          \n",
              "  bty_f2upper bty_m1lower bty_m1upper bty_m2upper bty_avg pic_outfit pic_color\n",
              "1 6           2           4           6           5       not formal color    \n",
              "2 6           2           4           6           5       not formal color    \n",
              "3 6           2           4           6           5       not formal color    \n",
              "4 6           2           4           6           5       not formal color    \n",
              "5 2           2           3           3           3       not formal color    \n",
              "6 2           2           3           3           3       not formal color    "
            ],
            "text/latex": "A data.frame: 6 × 21\n\\begin{tabular}{r|lllllllllllllllllllll}\n  & score & rank & ethnicity & gender & language & age & cls\\_perc\\_eval & cls\\_did\\_eval & cls\\_students & cls\\_level & ⋯ & cls\\_credits & bty\\_f1lower & bty\\_f1upper & bty\\_f2upper & bty\\_m1lower & bty\\_m1upper & bty\\_m2upper & bty\\_avg & pic\\_outfit & pic\\_color\\\\\n  & <dbl> & <fct> & <fct> & <fct> & <fct> & <int> & <dbl> & <int> & <int> & <fct> & ⋯ & <fct> & <int> & <int> & <int> & <int> & <int> & <int> & <dbl> & <fct> & <fct>\\\\\n\\hline\n\t1 & 4.7 & tenure track & minority     & female & english & 36 & 55.81395 & 24 &  43 & upper & ⋯ & multi credit & 5 & 7 & 6 & 2 & 4 & 6 & 5 & not formal & color\\\\\n\t2 & 4.1 & tenure track & minority     & female & english & 36 & 68.80000 & 86 & 125 & upper & ⋯ & multi credit & 5 & 7 & 6 & 2 & 4 & 6 & 5 & not formal & color\\\\\n\t3 & 3.9 & tenure track & minority     & female & english & 36 & 60.80000 & 76 & 125 & upper & ⋯ & multi credit & 5 & 7 & 6 & 2 & 4 & 6 & 5 & not formal & color\\\\\n\t4 & 4.8 & tenure track & minority     & female & english & 36 & 62.60163 & 77 & 123 & upper & ⋯ & multi credit & 5 & 7 & 6 & 2 & 4 & 6 & 5 & not formal & color\\\\\n\t5 & 4.6 & tenured      & not minority & male   & english & 59 & 85.00000 & 17 &  20 & upper & ⋯ & multi credit & 4 & 4 & 2 & 2 & 3 & 3 & 3 & not formal & color\\\\\n\t6 & 4.3 & tenured      & not minority & male   & english & 59 & 87.50000 & 35 &  40 & upper & ⋯ & multi credit & 4 & 4 & 2 & 2 & 3 & 3 & 3 & not formal & color\\\\\n\\end{tabular}\n",
            "text/markdown": "\nA data.frame: 6 × 21\n\n| <!--/--> | score &lt;dbl&gt; | rank &lt;fct&gt; | ethnicity &lt;fct&gt; | gender &lt;fct&gt; | language &lt;fct&gt; | age &lt;int&gt; | cls_perc_eval &lt;dbl&gt; | cls_did_eval &lt;int&gt; | cls_students &lt;int&gt; | cls_level &lt;fct&gt; | ⋯ ⋯ | cls_credits &lt;fct&gt; | bty_f1lower &lt;int&gt; | bty_f1upper &lt;int&gt; | bty_f2upper &lt;int&gt; | bty_m1lower &lt;int&gt; | bty_m1upper &lt;int&gt; | bty_m2upper &lt;int&gt; | bty_avg &lt;dbl&gt; | pic_outfit &lt;fct&gt; | pic_color &lt;fct&gt; |\n|---|---|---|---|---|---|---|---|---|---|---|---|---|---|---|---|---|---|---|---|---|---|\n| 1 | 4.7 | tenure track | minority     | female | english | 36 | 55.81395 | 24 |  43 | upper | ⋯ | multi credit | 5 | 7 | 6 | 2 | 4 | 6 | 5 | not formal | color |\n| 2 | 4.1 | tenure track | minority     | female | english | 36 | 68.80000 | 86 | 125 | upper | ⋯ | multi credit | 5 | 7 | 6 | 2 | 4 | 6 | 5 | not formal | color |\n| 3 | 3.9 | tenure track | minority     | female | english | 36 | 60.80000 | 76 | 125 | upper | ⋯ | multi credit | 5 | 7 | 6 | 2 | 4 | 6 | 5 | not formal | color |\n| 4 | 4.8 | tenure track | minority     | female | english | 36 | 62.60163 | 77 | 123 | upper | ⋯ | multi credit | 5 | 7 | 6 | 2 | 4 | 6 | 5 | not formal | color |\n| 5 | 4.6 | tenured      | not minority | male   | english | 59 | 85.00000 | 17 |  20 | upper | ⋯ | multi credit | 4 | 4 | 2 | 2 | 3 | 3 | 3 | not formal | color |\n| 6 | 4.3 | tenured      | not minority | male   | english | 59 | 87.50000 | 35 |  40 | upper | ⋯ | multi credit | 4 | 4 | 2 | 2 | 3 | 3 | 3 | not formal | color |\n\n",
            "text/html": [
              "<table>\n",
              "<caption>A data.frame: 6 × 21</caption>\n",
              "<thead>\n",
              "\t<tr><th></th><th scope=col>score</th><th scope=col>rank</th><th scope=col>ethnicity</th><th scope=col>gender</th><th scope=col>language</th><th scope=col>age</th><th scope=col>cls_perc_eval</th><th scope=col>cls_did_eval</th><th scope=col>cls_students</th><th scope=col>cls_level</th><th scope=col>⋯</th><th scope=col>cls_credits</th><th scope=col>bty_f1lower</th><th scope=col>bty_f1upper</th><th scope=col>bty_f2upper</th><th scope=col>bty_m1lower</th><th scope=col>bty_m1upper</th><th scope=col>bty_m2upper</th><th scope=col>bty_avg</th><th scope=col>pic_outfit</th><th scope=col>pic_color</th></tr>\n",
              "\t<tr><th></th><th scope=col>&lt;dbl&gt;</th><th scope=col>&lt;fct&gt;</th><th scope=col>&lt;fct&gt;</th><th scope=col>&lt;fct&gt;</th><th scope=col>&lt;fct&gt;</th><th scope=col>&lt;int&gt;</th><th scope=col>&lt;dbl&gt;</th><th scope=col>&lt;int&gt;</th><th scope=col>&lt;int&gt;</th><th scope=col>&lt;fct&gt;</th><th scope=col>⋯</th><th scope=col>&lt;fct&gt;</th><th scope=col>&lt;int&gt;</th><th scope=col>&lt;int&gt;</th><th scope=col>&lt;int&gt;</th><th scope=col>&lt;int&gt;</th><th scope=col>&lt;int&gt;</th><th scope=col>&lt;int&gt;</th><th scope=col>&lt;dbl&gt;</th><th scope=col>&lt;fct&gt;</th><th scope=col>&lt;fct&gt;</th></tr>\n",
              "</thead>\n",
              "<tbody>\n",
              "\t<tr><th scope=row>1</th><td>4.7</td><td>tenure track</td><td>minority    </td><td>female</td><td>english</td><td>36</td><td>55.81395</td><td>24</td><td> 43</td><td>upper</td><td>⋯</td><td>multi credit</td><td>5</td><td>7</td><td>6</td><td>2</td><td>4</td><td>6</td><td>5</td><td>not formal</td><td>color</td></tr>\n",
              "\t<tr><th scope=row>2</th><td>4.1</td><td>tenure track</td><td>minority    </td><td>female</td><td>english</td><td>36</td><td>68.80000</td><td>86</td><td>125</td><td>upper</td><td>⋯</td><td>multi credit</td><td>5</td><td>7</td><td>6</td><td>2</td><td>4</td><td>6</td><td>5</td><td>not formal</td><td>color</td></tr>\n",
              "\t<tr><th scope=row>3</th><td>3.9</td><td>tenure track</td><td>minority    </td><td>female</td><td>english</td><td>36</td><td>60.80000</td><td>76</td><td>125</td><td>upper</td><td>⋯</td><td>multi credit</td><td>5</td><td>7</td><td>6</td><td>2</td><td>4</td><td>6</td><td>5</td><td>not formal</td><td>color</td></tr>\n",
              "\t<tr><th scope=row>4</th><td>4.8</td><td>tenure track</td><td>minority    </td><td>female</td><td>english</td><td>36</td><td>62.60163</td><td>77</td><td>123</td><td>upper</td><td>⋯</td><td>multi credit</td><td>5</td><td>7</td><td>6</td><td>2</td><td>4</td><td>6</td><td>5</td><td>not formal</td><td>color</td></tr>\n",
              "\t<tr><th scope=row>5</th><td>4.6</td><td>tenured     </td><td>not minority</td><td>male  </td><td>english</td><td>59</td><td>85.00000</td><td>17</td><td> 20</td><td>upper</td><td>⋯</td><td>multi credit</td><td>4</td><td>4</td><td>2</td><td>2</td><td>3</td><td>3</td><td>3</td><td>not formal</td><td>color</td></tr>\n",
              "\t<tr><th scope=row>6</th><td>4.3</td><td>tenured     </td><td>not minority</td><td>male  </td><td>english</td><td>59</td><td>87.50000</td><td>35</td><td> 40</td><td>upper</td><td>⋯</td><td>multi credit</td><td>4</td><td>4</td><td>2</td><td>2</td><td>3</td><td>3</td><td>3</td><td>not formal</td><td>color</td></tr>\n",
              "</tbody>\n",
              "</table>\n"
            ]
          },
          "metadata": {
            "tags": []
          }
        }
      ]
    },
    {
      "cell_type": "code",
      "metadata": {
        "id": "fI0ZugiDJAFG",
        "colab_type": "code",
        "colab": {}
      },
      "source": [
        "# First load the evaluation dataset named \"evals\" \n",
        "\n",
        "download.file(\"http://www.openintro.org/stat/data/evals.RData\", destfile = \"evals.RData\")\n",
        "load(\"evals.RData\")"
      ],
      "execution_count": 0,
      "outputs": []
    },
    {
      "cell_type": "code",
      "metadata": {
        "id": "LK4cxf0IS4uK",
        "colab_type": "code",
        "colab": {}
      },
      "source": [
        "# Also install the following packages\n",
        "\n",
        "install.packages('ranger')\n",
        "install.packages('caret')"
      ],
      "execution_count": 0,
      "outputs": []
    },
    {
      "cell_type": "code",
      "metadata": {
        "id": "IM_jlrRt__qW",
        "colab_type": "code",
        "colab": {
          "base_uri": "https://localhost:8080/",
          "height": 121
        },
        "outputId": "71c5a401-51ad-4c92-833d-d83c4d6cbcc8"
      },
      "source": [
        "table(target)/length(target)\n",
        "table(target)"
      ],
      "execution_count": 30,
      "outputs": [
        {
          "output_type": "display_data",
          "data": {
            "text/plain": [
              "target\n",
              "        0         1 \n",
              "0.3218143 0.6781857 "
            ]
          },
          "metadata": {
            "tags": []
          }
        },
        {
          "output_type": "display_data",
          "data": {
            "text/plain": [
              "target\n",
              "  0   1 \n",
              "149 314 "
            ]
          },
          "metadata": {
            "tags": []
          }
        }
      ]
    },
    {
      "cell_type": "code",
      "metadata": {
        "id": "qPYYjiZRArm9",
        "colab_type": "code",
        "colab": {
          "base_uri": "https://localhost:8080/",
          "height": 225
        },
        "outputId": "552ac9a7-077d-42e1-d907-d9fcce839675"
      },
      "source": [
        "# Tenured, # of tenured professors who have \"good\" vs. \"bad\" evaluations\n",
        "table(target[rank == \"tenured\"])\n",
        "\n",
        "# tenure track, # of tenure-track professors who have \"good\" vs. \"bad\" evaluations\n",
        "table(target[rank == \"tenure track\"])\n",
        "\n",
        "# teaching track, # of teaching track professors who have \"good\" vs. \"bad\" evaluations\n",
        "table(target[rank == \"teaching\"])\n",
        "\n",
        "# Proportions\n",
        "166/(166+87) # Tenured\n",
        "\n",
        "74/(34+74) # Tenure track\n",
        "\n",
        "74/(28+74) # Teaching"
      ],
      "execution_count": 34,
      "outputs": [
        {
          "output_type": "display_data",
          "data": {
            "text/plain": [
              "\n",
              "  0   1 \n",
              " 87 166 "
            ]
          },
          "metadata": {
            "tags": []
          }
        },
        {
          "output_type": "display_data",
          "data": {
            "text/plain": [
              "\n",
              " 0  1 \n",
              "34 74 "
            ]
          },
          "metadata": {
            "tags": []
          }
        },
        {
          "output_type": "display_data",
          "data": {
            "text/plain": [
              "\n",
              " 0  1 \n",
              "28 74 "
            ]
          },
          "metadata": {
            "tags": []
          }
        },
        {
          "output_type": "display_data",
          "data": {
            "text/plain": [
              "[1] 0.6561265"
            ],
            "text/latex": "0.656126482213439",
            "text/markdown": "0.656126482213439",
            "text/html": [
              "0.656126482213439"
            ]
          },
          "metadata": {
            "tags": []
          }
        },
        {
          "output_type": "display_data",
          "data": {
            "text/plain": [
              "[1] 0.6851852"
            ],
            "text/latex": "0.685185185185185",
            "text/markdown": "0.685185185185185",
            "text/html": [
              "0.685185185185185"
            ]
          },
          "metadata": {
            "tags": []
          }
        },
        {
          "output_type": "display_data",
          "data": {
            "text/plain": [
              "[1] 0.7254902"
            ],
            "text/latex": "0.725490196078431",
            "text/markdown": "0.725490196078431",
            "text/html": [
              "0.725490196078431"
            ]
          },
          "metadata": {
            "tags": []
          }
        }
      ]
    },
    {
      "cell_type": "markdown",
      "metadata": {
        "id": "3DV1qV0XJYBm",
        "colab_type": "text"
      },
      "source": [
        "## Variable names and description\n",
        "\n",
        "* `score`\taverage professor evaluation score: (1) very unsatisfactory - (5) excellent.\n",
        "* `rank`\trank of professor: teaching, tenure track, tenured.\n",
        "* `ethnicity`\tethnicity of professor: not minority, minority.\n",
        "* `gender`\tgender of professor: female, male.\n",
        "* `language`\tlanguage of school where professor received education: english or non-english.\n",
        "* `age`\tage of professor.\n",
        "* `cls_perc_eval`\tpercent of students in class who completed evaluation.\n",
        "* `cls_did_eval`\tnumber of students in class who completed evaluation.\n",
        "* `cls_students`\ttotal number of students in class.\n",
        "* `cls_level`\tclass level: lower, upper.\n",
        "* `cls_profs`\tnumber of professors teaching sections in course in sample: single, multiple.\n",
        "* `cls_credits`\tnumber of credits of class: one credit (lab, PE, etc.), multi credit.\n",
        "* `bty_f1lower`\tbeauty rating of professor from lower level female: (1) lowest - (10) highest.\n",
        "* `bty_f1upper`\tbeauty rating of professor from upper level female: (1) lowest - (10) highest.\n",
        "* `bty_f2upper`\tbeauty rating of professor from second upper level female: (1) lowest - (10) highest.\n",
        "* `bty_m1lower`\tbeauty rating of professor from lower level male: (1) lowest - (10) highest.\n",
        "* `bty_m1upper`\tbeauty rating of professor from upper level male: (1) lowest - (10) highest.\n",
        "* `bty_m2upper`\tbeauty rating of professor from second upper level male: (1) lowest - (10) highest.\n",
        "* `bty_avg`\taverage beauty rating of professor.\n",
        "* `pic_outfit`\toutfit of professor in picture: not formal, formal.\n",
        "* `pic_color`\tcolor of professor’s picture: color, black & white"
      ]
    },
    {
      "cell_type": "markdown",
      "metadata": {
        "id": "ba062QL2Ou24",
        "colab_type": "text"
      },
      "source": [
        "# Question 1 Training a Random Forest Classifier [50 Points]\n",
        "\n",
        "Train a random forest classifier using the \"ranger\" package that will enable you to predict whether an instructor recieves a rating of \"very good\" (4) or \"excellent\" (5) using all of the remaining variables in the dataset.\n",
        "\n",
        "Please use a 75/25 train/test split. \n",
        "\n",
        "Report: \n",
        "* The confusion matrix\n",
        "* Accuracy, precision, recall and F1 statistic of the trained random forest model."
      ]
    },
    {
      "cell_type": "code",
      "metadata": {
        "id": "hkFwyUIhQTDQ",
        "colab_type": "code",
        "colab": {}
      },
      "source": [
        "library(ranger)\n",
        "library(caret)\n",
        "\n",
        "attach(evals)\n",
        "\n",
        "target = ifelse(score>=4,1,0)\n",
        "##### YOUR CODE HERE ###################################\n",
        "\n",
        "# Set seed for rng\n",
        "set.seed(33) # Super-sneaky Masonic number \n",
        "\n",
        "# Create the set of randomized indices\n",
        "training.pct = 0.75\n",
        "index = sample(nrow(evals), training.pct * nrow(evals)) \n",
        "\n",
        "# Create the training and test data\n",
        "evals.train = evals[index,] # Training data features\n",
        "evals.test = evals[-index,] # Test data features*\n",
        "#*Note: be sure to remove \"score\" from the test data\n",
        "\n",
        "target.train = target[index] # 75% training data set target\n",
        "target.test = target[-index] # 25% test set target\n",
        "\n",
        "# Update training and test data\n",
        "evals.train = data.frame(evals.train,target.train)\n",
        "\n",
        "# Part 1: Training the random forest algorithm on the training data.\n",
        "\n",
        "rf.evals.train <- ranger(target.train ~ . -score, data = evals.train, \n",
        "               importance='impurity',\n",
        "               write.forest=TRUE, # Writes out the trees\n",
        "               probability=TRUE)  # The algorithm will produce the probability in the output\n",
        "\n",
        "##### YOUR CODE HERE ###################################"
      ],
      "execution_count": 0,
      "outputs": []
    },
    {
      "cell_type": "code",
      "metadata": {
        "id": "4mNcwGHEXscE",
        "colab_type": "code",
        "colab": {
          "base_uri": "https://localhost:8080/",
          "height": 362
        },
        "outputId": "4c819b66-42bb-444e-97e3-2632c6aaffef"
      },
      "source": [
        "# Aside, may be useful to check dimensionality of training and test to confirm\n",
        "# Did it work?\n",
        "dim(evals.train)\n",
        "dim(evals.test)\n",
        "\n",
        "head(evals.test) "
      ],
      "execution_count": 8,
      "outputs": [
        {
          "output_type": "display_data",
          "data": {
            "text/plain": [
              "[1] 347  22"
            ],
            "text/latex": "\\begin{enumerate*}\n\\item 347\n\\item 22\n\\end{enumerate*}\n",
            "text/markdown": "1. 347\n2. 22\n\n\n",
            "text/html": [
              "<style>\n",
              ".list-inline {list-style: none; margin:0; padding: 0}\n",
              ".list-inline>li {display: inline-block}\n",
              ".list-inline>li:not(:last-child)::after {content: \"\\00b7\"; padding: 0 .5ex}\n",
              "</style>\n",
              "<ol class=list-inline><li>347</li><li>22</li></ol>\n"
            ]
          },
          "metadata": {
            "tags": []
          }
        },
        {
          "output_type": "display_data",
          "data": {
            "text/plain": [
              "[1] 116  22"
            ],
            "text/latex": "\\begin{enumerate*}\n\\item 116\n\\item 22\n\\end{enumerate*}\n",
            "text/markdown": "1. 116\n2. 22\n\n\n",
            "text/html": [
              "<style>\n",
              ".list-inline {list-style: none; margin:0; padding: 0}\n",
              ".list-inline>li {display: inline-block}\n",
              ".list-inline>li:not(:last-child)::after {content: \"\\00b7\"; padding: 0 .5ex}\n",
              "</style>\n",
              "<ol class=list-inline><li>116</li><li>22</li></ol>\n"
            ]
          },
          "metadata": {
            "tags": []
          }
        },
        {
          "output_type": "display_data",
          "data": {
            "text/plain": [
              "   rank         ethnicity    gender language age cls_perc_eval cls_did_eval\n",
              "5  tenured      not minority male   english  59  85.00000      17          \n",
              "16 tenured      not minority female english  40  90.00000      18          \n",
              "19 tenure track not minority female english  31  90.90909      40          \n",
              "20 tenure track not minority female english  31  79.16666      38          \n",
              "22 tenure track not minority female english  31  88.13559      52          \n",
              "23 tenure track not minority female english  31  56.32184      49          \n",
              "   cls_students cls_level cls_profs cls_credits  bty_f1lower bty_f1upper\n",
              "5  20           upper     multiple  multi credit 4           4          \n",
              "16 20           upper     multiple  multi credit 2           5          \n",
              "19 44           upper     multiple  multi credit 7           9          \n",
              "20 48           upper     multiple  multi credit 7           9          \n",
              "22 59           upper     multiple  multi credit 7           9          \n",
              "23 87           upper     single    multi credit 7           9          \n",
              "   bty_f2upper bty_m1lower bty_m1upper bty_m2upper bty_avg pic_outfit pic_color\n",
              "5  2           2           3           3           3.000   not formal color    \n",
              "16 4           3           3           2           3.167   not formal color    \n",
              "19 9           7           6           6           7.333   not formal color    \n",
              "20 9           7           6           6           7.333   not formal color    \n",
              "22 9           7           6           6           7.333   not formal color    \n",
              "23 9           7           6           6           7.333   not formal color    "
            ],
            "text/latex": "A data.frame: 6 × 20\n\\begin{tabular}{r|llllllllllllllllllll}\n  & rank & ethnicity & gender & language & age & cls\\_perc\\_eval & cls\\_did\\_eval & cls\\_students & cls\\_level & cls\\_profs & cls\\_credits & bty\\_f1lower & bty\\_f1upper & bty\\_f2upper & bty\\_m1lower & bty\\_m1upper & bty\\_m2upper & bty\\_avg & pic\\_outfit & pic\\_color\\\\\n  & <fct> & <fct> & <fct> & <fct> & <int> & <dbl> & <int> & <int> & <fct> & <fct> & <fct> & <int> & <int> & <int> & <int> & <int> & <int> & <dbl> & <fct> & <fct>\\\\\n\\hline\n\t5 & tenured      & not minority & male   & english & 59 & 85.00000 & 17 & 20 & upper & multiple & multi credit & 4 & 4 & 2 & 2 & 3 & 3 & 3.000 & not formal & color\\\\\n\t16 & tenured      & not minority & female & english & 40 & 90.00000 & 18 & 20 & upper & multiple & multi credit & 2 & 5 & 4 & 3 & 3 & 2 & 3.167 & not formal & color\\\\\n\t19 & tenure track & not minority & female & english & 31 & 90.90909 & 40 & 44 & upper & multiple & multi credit & 7 & 9 & 9 & 7 & 6 & 6 & 7.333 & not formal & color\\\\\n\t20 & tenure track & not minority & female & english & 31 & 79.16666 & 38 & 48 & upper & multiple & multi credit & 7 & 9 & 9 & 7 & 6 & 6 & 7.333 & not formal & color\\\\\n\t22 & tenure track & not minority & female & english & 31 & 88.13559 & 52 & 59 & upper & multiple & multi credit & 7 & 9 & 9 & 7 & 6 & 6 & 7.333 & not formal & color\\\\\n\t23 & tenure track & not minority & female & english & 31 & 56.32184 & 49 & 87 & upper & single   & multi credit & 7 & 9 & 9 & 7 & 6 & 6 & 7.333 & not formal & color\\\\\n\\end{tabular}\n",
            "text/markdown": "\nA data.frame: 6 × 20\n\n| <!--/--> | rank &lt;fct&gt; | ethnicity &lt;fct&gt; | gender &lt;fct&gt; | language &lt;fct&gt; | age &lt;int&gt; | cls_perc_eval &lt;dbl&gt; | cls_did_eval &lt;int&gt; | cls_students &lt;int&gt; | cls_level &lt;fct&gt; | cls_profs &lt;fct&gt; | cls_credits &lt;fct&gt; | bty_f1lower &lt;int&gt; | bty_f1upper &lt;int&gt; | bty_f2upper &lt;int&gt; | bty_m1lower &lt;int&gt; | bty_m1upper &lt;int&gt; | bty_m2upper &lt;int&gt; | bty_avg &lt;dbl&gt; | pic_outfit &lt;fct&gt; | pic_color &lt;fct&gt; |\n|---|---|---|---|---|---|---|---|---|---|---|---|---|---|---|---|---|---|---|---|---|\n| 5 | tenured      | not minority | male   | english | 59 | 85.00000 | 17 | 20 | upper | multiple | multi credit | 4 | 4 | 2 | 2 | 3 | 3 | 3.000 | not formal | color |\n| 16 | tenured      | not minority | female | english | 40 | 90.00000 | 18 | 20 | upper | multiple | multi credit | 2 | 5 | 4 | 3 | 3 | 2 | 3.167 | not formal | color |\n| 19 | tenure track | not minority | female | english | 31 | 90.90909 | 40 | 44 | upper | multiple | multi credit | 7 | 9 | 9 | 7 | 6 | 6 | 7.333 | not formal | color |\n| 20 | tenure track | not minority | female | english | 31 | 79.16666 | 38 | 48 | upper | multiple | multi credit | 7 | 9 | 9 | 7 | 6 | 6 | 7.333 | not formal | color |\n| 22 | tenure track | not minority | female | english | 31 | 88.13559 | 52 | 59 | upper | multiple | multi credit | 7 | 9 | 9 | 7 | 6 | 6 | 7.333 | not formal | color |\n| 23 | tenure track | not minority | female | english | 31 | 56.32184 | 49 | 87 | upper | single   | multi credit | 7 | 9 | 9 | 7 | 6 | 6 | 7.333 | not formal | color |\n\n",
            "text/html": [
              "<table>\n",
              "<caption>A data.frame: 6 × 20</caption>\n",
              "<thead>\n",
              "\t<tr><th></th><th scope=col>rank</th><th scope=col>ethnicity</th><th scope=col>gender</th><th scope=col>language</th><th scope=col>age</th><th scope=col>cls_perc_eval</th><th scope=col>cls_did_eval</th><th scope=col>cls_students</th><th scope=col>cls_level</th><th scope=col>cls_profs</th><th scope=col>cls_credits</th><th scope=col>bty_f1lower</th><th scope=col>bty_f1upper</th><th scope=col>bty_f2upper</th><th scope=col>bty_m1lower</th><th scope=col>bty_m1upper</th><th scope=col>bty_m2upper</th><th scope=col>bty_avg</th><th scope=col>pic_outfit</th><th scope=col>pic_color</th></tr>\n",
              "\t<tr><th></th><th scope=col>&lt;fct&gt;</th><th scope=col>&lt;fct&gt;</th><th scope=col>&lt;fct&gt;</th><th scope=col>&lt;fct&gt;</th><th scope=col>&lt;int&gt;</th><th scope=col>&lt;dbl&gt;</th><th scope=col>&lt;int&gt;</th><th scope=col>&lt;int&gt;</th><th scope=col>&lt;fct&gt;</th><th scope=col>&lt;fct&gt;</th><th scope=col>&lt;fct&gt;</th><th scope=col>&lt;int&gt;</th><th scope=col>&lt;int&gt;</th><th scope=col>&lt;int&gt;</th><th scope=col>&lt;int&gt;</th><th scope=col>&lt;int&gt;</th><th scope=col>&lt;int&gt;</th><th scope=col>&lt;dbl&gt;</th><th scope=col>&lt;fct&gt;</th><th scope=col>&lt;fct&gt;</th></tr>\n",
              "</thead>\n",
              "<tbody>\n",
              "\t<tr><th scope=row>5</th><td>tenured     </td><td>not minority</td><td>male  </td><td>english</td><td>59</td><td>85.00000</td><td>17</td><td>20</td><td>upper</td><td>multiple</td><td>multi credit</td><td>4</td><td>4</td><td>2</td><td>2</td><td>3</td><td>3</td><td>3.000</td><td>not formal</td><td>color</td></tr>\n",
              "\t<tr><th scope=row>16</th><td>tenured     </td><td>not minority</td><td>female</td><td>english</td><td>40</td><td>90.00000</td><td>18</td><td>20</td><td>upper</td><td>multiple</td><td>multi credit</td><td>2</td><td>5</td><td>4</td><td>3</td><td>3</td><td>2</td><td>3.167</td><td>not formal</td><td>color</td></tr>\n",
              "\t<tr><th scope=row>19</th><td>tenure track</td><td>not minority</td><td>female</td><td>english</td><td>31</td><td>90.90909</td><td>40</td><td>44</td><td>upper</td><td>multiple</td><td>multi credit</td><td>7</td><td>9</td><td>9</td><td>7</td><td>6</td><td>6</td><td>7.333</td><td>not formal</td><td>color</td></tr>\n",
              "\t<tr><th scope=row>20</th><td>tenure track</td><td>not minority</td><td>female</td><td>english</td><td>31</td><td>79.16666</td><td>38</td><td>48</td><td>upper</td><td>multiple</td><td>multi credit</td><td>7</td><td>9</td><td>9</td><td>7</td><td>6</td><td>6</td><td>7.333</td><td>not formal</td><td>color</td></tr>\n",
              "\t<tr><th scope=row>22</th><td>tenure track</td><td>not minority</td><td>female</td><td>english</td><td>31</td><td>88.13559</td><td>52</td><td>59</td><td>upper</td><td>multiple</td><td>multi credit</td><td>7</td><td>9</td><td>9</td><td>7</td><td>6</td><td>6</td><td>7.333</td><td>not formal</td><td>color</td></tr>\n",
              "\t<tr><th scope=row>23</th><td>tenure track</td><td>not minority</td><td>female</td><td>english</td><td>31</td><td>56.32184</td><td>49</td><td>87</td><td>upper</td><td>single  </td><td>multi credit</td><td>7</td><td>9</td><td>9</td><td>7</td><td>6</td><td>6</td><td>7.333</td><td>not formal</td><td>color</td></tr>\n",
              "</tbody>\n",
              "</table>\n"
            ]
          },
          "metadata": {
            "tags": []
          }
        }
      ]
    },
    {
      "cell_type": "markdown",
      "metadata": {
        "id": "6vyabuIaZgSB",
        "colab_type": "text"
      },
      "source": [
        "## Report the confusion matrix along with accuracy, precision and recall of the model"
      ]
    },
    {
      "cell_type": "code",
      "metadata": {
        "id": "a3CDwA9dEk8w",
        "colab_type": "code",
        "colab": {
          "base_uri": "https://localhost:8080/",
          "height": 473
        },
        "outputId": "af976b98-a6c1-4565-84c2-653fe498f34f"
      },
      "source": [
        "# Scratch work\n",
        "head(rf_probs$predictions)"
      ],
      "execution_count": 38,
      "outputs": [
        {
          "output_type": "display_data",
          "data": {
            "text/plain": [
              "     [,1]      [,2]     \n",
              "[1,] 0.6367261 0.3632739\n",
              "[2,] 0.7192530 0.2807470\n",
              "[3,] 0.8812111 0.1187889\n",
              "[4,] 0.8686730 0.1313270\n",
              "[5,] 0.8717452 0.1282548\n",
              "[6,] 0.6396206 0.3603794"
            ],
            "text/latex": "A matrix: 6 × 2 of type dbl\n\\begin{tabular}{ll}\n\t 0.6367261 & 0.3632739\\\\\n\t 0.7192530 & 0.2807470\\\\\n\t 0.8812111 & 0.1187889\\\\\n\t 0.8686730 & 0.1313270\\\\\n\t 0.8717452 & 0.1282548\\\\\n\t 0.6396206 & 0.3603794\\\\\n\\end{tabular}\n",
            "text/markdown": "\nA matrix: 6 × 2 of type dbl\n\n| 0.6367261 | 0.3632739 |\n| 0.7192530 | 0.2807470 |\n| 0.8812111 | 0.1187889 |\n| 0.8686730 | 0.1313270 |\n| 0.8717452 | 0.1282548 |\n| 0.6396206 | 0.3603794 |\n\n",
            "text/html": [
              "<table>\n",
              "<caption>A matrix: 6 × 2 of type dbl</caption>\n",
              "<tbody>\n",
              "\t<tr><td>0.6367261</td><td>0.3632739</td></tr>\n",
              "\t<tr><td>0.7192530</td><td>0.2807470</td></tr>\n",
              "\t<tr><td>0.8812111</td><td>0.1187889</td></tr>\n",
              "\t<tr><td>0.8686730</td><td>0.1313270</td></tr>\n",
              "\t<tr><td>0.8717452</td><td>0.1282548</td></tr>\n",
              "\t<tr><td>0.6396206</td><td>0.3603794</td></tr>\n",
              "</tbody>\n",
              "</table>\n"
            ]
          },
          "metadata": {
            "tags": []
          }
        },
        {
          "output_type": "display_data",
          "data": {
            "text/plain": [
              "  [1] 0.6367261 0.7192530 0.8812111 0.8686730 0.8717452 0.6396206 0.8469611\n",
              "  [8] 0.8978968 0.8931079 0.9496143 0.6993375 0.8737492 0.9108953 0.9379714\n",
              " [15] 0.9321749 0.9237836 0.9665288 0.6507571 0.8838813 0.4619072 0.5777747\n",
              " [22] 0.6810333 0.5314336 0.8463852 0.7867952 0.9054579 0.9386730 0.5164537\n",
              " [29] 0.6264813 0.6401504 0.6349535 0.6957564 0.2718390 0.7092286 0.7022627\n",
              " [36] 0.5052079 0.5314024 0.6817802 0.5047213 0.4740460 0.7320802 0.6221368\n",
              " [43] 0.5392365 0.8931603 0.4227089 0.3253383 0.5219452 0.5211492 0.4722071\n",
              " [50] 0.9814929 0.9064246 0.7436889 0.8510516 0.5027445 0.2625381 0.7121444\n",
              " [57] 0.6719929 0.5186902 0.6010179 0.9373556 0.8875389 0.7318960 0.7304214\n",
              " [64] 0.7033143 0.9168365 0.8643483 0.7890616 0.5533857 0.5701802 0.5366603\n",
              " [71] 0.6328159 0.6914598 0.8341881 0.8584048 0.4380898 0.8354883 0.8042883\n",
              " [78] 0.4660115 0.3977298 0.4670369 0.4481242 0.7978952 0.3694730 0.8056325\n",
              " [85] 0.9703929 0.9282873 0.9698270 0.9831405 0.3579921 0.5113921 0.9178143\n",
              " [92] 0.3738421 0.6049025 0.5213381 0.7523583 0.7068262 0.8399508 0.5236930\n",
              " [99] 0.5281684 0.8593222 0.7436586 0.6391245 0.9003437 0.8941384 0.8865008\n",
              "[106] 0.5187558 0.5113778 0.1538438 0.4151190 0.7095389 0.7672641 0.8571697\n",
              "[113] 0.3663444 0.3892921 0.2571885 0.8829717"
            ],
            "text/latex": "\\begin{enumerate*}\n\\item 0.636726062826063\n\\item 0.719253030303031\n\\item 0.881211111111111\n\\item 0.868673015873016\n\\item 0.871745238095238\n\\item 0.639620634920635\n\\item 0.846961111111111\n\\item 0.897896825396825\n\\item 0.893107936507936\n\\item 0.949614285714286\n\\item 0.699337545787546\n\\item 0.873749206349206\n\\item 0.910895310245311\n\\item 0.937971428571429\n\\item 0.932174908424909\n\\item 0.923783577533578\n\\item 0.966528815628816\n\\item 0.650757142857143\n\\item 0.883881257631258\n\\item 0.461907215007215\n\\item 0.577774675324675\n\\item 0.681033333333333\n\\item 0.531433577533578\n\\item 0.846385225885226\n\\item 0.786795238095238\n\\item 0.905457936507937\n\\item 0.938673015873016\n\\item 0.516453676878677\n\\item 0.626481257631258\n\\item 0.640150377400378\n\\item 0.63495347985348\n\\item 0.695756421356421\n\\item 0.271838961038961\n\\item 0.709228571428572\n\\item 0.702262698412698\n\\item 0.505207936507936\n\\item 0.531402380952381\n\\item 0.681780158730159\n\\item 0.504721284271284\n\\item 0.474046031746032\n\\item 0.732080158730158\n\\item 0.622136752136752\n\\item 0.539236507936508\n\\item 0.893160317460317\n\\item 0.422708891108891\n\\item 0.325338256188256\n\\item 0.521945238095238\n\\item 0.521149206349206\n\\item 0.472207142857143\n\\item 0.981492857142857\n\\item 0.906424603174603\n\\item 0.743688888888889\n\\item 0.851051587301588\n\\item 0.502744516594517\n\\item 0.262538095238095\n\\item 0.712144444444444\n\\item 0.671992857142857\n\\item 0.518690170940171\n\\item 0.601017948717949\n\\item 0.937355555555555\n\\item 0.887538888888889\n\\item 0.731896031746032\n\\item 0.730421428571429\n\\item 0.703314285714286\n\\item 0.916836507936508\n\\item 0.864348268398268\n\\item 0.789061616161616\n\\item 0.553385714285714\n\\item 0.570180158730159\n\\item 0.536660317460318\n\\item 0.632815873015873\n\\item 0.691459816207185\n\\item 0.834188095238095\n\\item 0.858404761904761\n\\item 0.438089754689754\n\\item 0.835488347763348\n\\item 0.804288347763348\n\\item 0.466011507936508\n\\item 0.397729761904762\n\\item 0.467036904761905\n\\item 0.448124206349206\n\\item 0.797895238095238\n\\item 0.369473015873016\n\\item 0.80563253968254\n\\item 0.970392857142857\n\\item 0.928287301587301\n\\item 0.969826984126984\n\\item 0.983140476190476\n\\item 0.357992063492063\n\\item 0.511392063492063\n\\item 0.917814285714286\n\\item 0.373842063492063\n\\item 0.604902453102453\n\\item 0.521338095238095\n\\item 0.752358297258297\n\\item 0.70682619047619\n\\item 0.839950793650794\n\\item 0.523692998667999\n\\item 0.528168395493396\n\\item 0.859322222222222\n\\item 0.743658585858586\n\\item 0.639124458874458\n\\item 0.900343650793651\n\\item 0.894138387635756\n\\item 0.886500793650794\n\\item 0.518755847953216\n\\item 0.511377777777778\n\\item 0.153843795093795\n\\item 0.415119047619048\n\\item 0.709538888888889\n\\item 0.767264141414141\n\\item 0.857169658119658\n\\item 0.366344444444445\n\\item 0.389292063492064\n\\item 0.257188455988456\n\\item 0.88297172096909\n\\end{enumerate*}\n",
            "text/markdown": "1. 0.636726062826063\n2. 0.719253030303031\n3. 0.881211111111111\n4. 0.868673015873016\n5. 0.871745238095238\n6. 0.639620634920635\n7. 0.846961111111111\n8. 0.897896825396825\n9. 0.893107936507936\n10. 0.949614285714286\n11. 0.699337545787546\n12. 0.873749206349206\n13. 0.910895310245311\n14. 0.937971428571429\n15. 0.932174908424909\n16. 0.923783577533578\n17. 0.966528815628816\n18. 0.650757142857143\n19. 0.883881257631258\n20. 0.461907215007215\n21. 0.577774675324675\n22. 0.681033333333333\n23. 0.531433577533578\n24. 0.846385225885226\n25. 0.786795238095238\n26. 0.905457936507937\n27. 0.938673015873016\n28. 0.516453676878677\n29. 0.626481257631258\n30. 0.640150377400378\n31. 0.63495347985348\n32. 0.695756421356421\n33. 0.271838961038961\n34. 0.709228571428572\n35. 0.702262698412698\n36. 0.505207936507936\n37. 0.531402380952381\n38. 0.681780158730159\n39. 0.504721284271284\n40. 0.474046031746032\n41. 0.732080158730158\n42. 0.622136752136752\n43. 0.539236507936508\n44. 0.893160317460317\n45. 0.422708891108891\n46. 0.325338256188256\n47. 0.521945238095238\n48. 0.521149206349206\n49. 0.472207142857143\n50. 0.981492857142857\n51. 0.906424603174603\n52. 0.743688888888889\n53. 0.851051587301588\n54. 0.502744516594517\n55. 0.262538095238095\n56. 0.712144444444444\n57. 0.671992857142857\n58. 0.518690170940171\n59. 0.601017948717949\n60. 0.937355555555555\n61. 0.887538888888889\n62. 0.731896031746032\n63. 0.730421428571429\n64. 0.703314285714286\n65. 0.916836507936508\n66. 0.864348268398268\n67. 0.789061616161616\n68. 0.553385714285714\n69. 0.570180158730159\n70. 0.536660317460318\n71. 0.632815873015873\n72. 0.691459816207185\n73. 0.834188095238095\n74. 0.858404761904761\n75. 0.438089754689754\n76. 0.835488347763348\n77. 0.804288347763348\n78. 0.466011507936508\n79. 0.397729761904762\n80. 0.467036904761905\n81. 0.448124206349206\n82. 0.797895238095238\n83. 0.369473015873016\n84. 0.80563253968254\n85. 0.970392857142857\n86. 0.928287301587301\n87. 0.969826984126984\n88. 0.983140476190476\n89. 0.357992063492063\n90. 0.511392063492063\n91. 0.917814285714286\n92. 0.373842063492063\n93. 0.604902453102453\n94. 0.521338095238095\n95. 0.752358297258297\n96. 0.70682619047619\n97. 0.839950793650794\n98. 0.523692998667999\n99. 0.528168395493396\n100. 0.859322222222222\n101. 0.743658585858586\n102. 0.639124458874458\n103. 0.900343650793651\n104. 0.894138387635756\n105. 0.886500793650794\n106. 0.518755847953216\n107. 0.511377777777778\n108. 0.153843795093795\n109. 0.415119047619048\n110. 0.709538888888889\n111. 0.767264141414141\n112. 0.857169658119658\n113. 0.366344444444445\n114. 0.389292063492064\n115. 0.257188455988456\n116. 0.88297172096909\n\n\n",
            "text/html": [
              "<style>\n",
              ".list-inline {list-style: none; margin:0; padding: 0}\n",
              ".list-inline>li {display: inline-block}\n",
              ".list-inline>li:not(:last-child)::after {content: \"\\00b7\"; padding: 0 .5ex}\n",
              "</style>\n",
              "<ol class=list-inline><li>0.636726062826063</li><li>0.719253030303031</li><li>0.881211111111111</li><li>0.868673015873016</li><li>0.871745238095238</li><li>0.639620634920635</li><li>0.846961111111111</li><li>0.897896825396825</li><li>0.893107936507936</li><li>0.949614285714286</li><li>0.699337545787546</li><li>0.873749206349206</li><li>0.910895310245311</li><li>0.937971428571429</li><li>0.932174908424909</li><li>0.923783577533578</li><li>0.966528815628816</li><li>0.650757142857143</li><li>0.883881257631258</li><li>0.461907215007215</li><li>0.577774675324675</li><li>0.681033333333333</li><li>0.531433577533578</li><li>0.846385225885226</li><li>0.786795238095238</li><li>0.905457936507937</li><li>0.938673015873016</li><li>0.516453676878677</li><li>0.626481257631258</li><li>0.640150377400378</li><li>0.63495347985348</li><li>0.695756421356421</li><li>0.271838961038961</li><li>0.709228571428572</li><li>0.702262698412698</li><li>0.505207936507936</li><li>0.531402380952381</li><li>0.681780158730159</li><li>0.504721284271284</li><li>0.474046031746032</li><li>0.732080158730158</li><li>0.622136752136752</li><li>0.539236507936508</li><li>0.893160317460317</li><li>0.422708891108891</li><li>0.325338256188256</li><li>0.521945238095238</li><li>0.521149206349206</li><li>0.472207142857143</li><li>0.981492857142857</li><li>0.906424603174603</li><li>0.743688888888889</li><li>0.851051587301588</li><li>0.502744516594517</li><li>0.262538095238095</li><li>0.712144444444444</li><li>0.671992857142857</li><li>0.518690170940171</li><li>0.601017948717949</li><li>0.937355555555555</li><li>0.887538888888889</li><li>0.731896031746032</li><li>0.730421428571429</li><li>0.703314285714286</li><li>0.916836507936508</li><li>0.864348268398268</li><li>0.789061616161616</li><li>0.553385714285714</li><li>0.570180158730159</li><li>0.536660317460318</li><li>0.632815873015873</li><li>0.691459816207185</li><li>0.834188095238095</li><li>0.858404761904761</li><li>0.438089754689754</li><li>0.835488347763348</li><li>0.804288347763348</li><li>0.466011507936508</li><li>0.397729761904762</li><li>0.467036904761905</li><li>0.448124206349206</li><li>0.797895238095238</li><li>0.369473015873016</li><li>0.80563253968254</li><li>0.970392857142857</li><li>0.928287301587301</li><li>0.969826984126984</li><li>0.983140476190476</li><li>0.357992063492063</li><li>0.511392063492063</li><li>0.917814285714286</li><li>0.373842063492063</li><li>0.604902453102453</li><li>0.521338095238095</li><li>0.752358297258297</li><li>0.70682619047619</li><li>0.839950793650794</li><li>0.523692998667999</li><li>0.528168395493396</li><li>0.859322222222222</li><li>0.743658585858586</li><li>0.639124458874458</li><li>0.900343650793651</li><li>0.894138387635756</li><li>0.886500793650794</li><li>0.518755847953216</li><li>0.511377777777778</li><li>0.153843795093795</li><li>0.415119047619048</li><li>0.709538888888889</li><li>0.767264141414141</li><li>0.857169658119658</li><li>0.366344444444445</li><li>0.389292063492064</li><li>0.257188455988456</li><li>0.88297172096909</li></ol>\n"
            ]
          },
          "metadata": {
            "tags": []
          }
        }
      ]
    },
    {
      "cell_type": "code",
      "metadata": {
        "id": "01MWwfz2ZbSy",
        "colab_type": "code",
        "colab": {
          "base_uri": "https://localhost:8080/",
          "height": 501
        },
        "outputId": "bcbae66c-0a95-4f02-9632-5f2b4cad6c8e"
      },
      "source": [
        "#install.packages(\"e1071\")\n",
        "library(e1071)\n",
        "## Part 2: Make predictions on test data using the trained model\n",
        "\n",
        "rf_probs <- predict(rf.evals.train, data.frame(evals.test))\n",
        "\n",
        "# Classification into low and high scorers\n",
        "\n",
        "rf_class <- ifelse(rf_probs$predictions[,2] > 0.5, 1,0) \n",
        "\n",
        "predicted_class = factor(rf_class)\n",
        "true_class = factor(target.test)\n",
        "\n",
        "cmat = confusionMatrix(predicted_class,true_class, positive = \"1\")\n",
        "cmat\n",
        "\n",
        "# Precision, recall, and F1\n",
        "precision = cmat$byClass[5]\n",
        "recall = cmat$byClass[6]\n",
        "F1 = cmat$byClass[7]\n",
        "Accuracy = cmat$overall[1]\n",
        "\n",
        "stats = c(Accuracy, precision,recall,F1)\n",
        "stats.rounded = round(stats,digits = 2)\n",
        "\n",
        "print(\n",
        "  paste(\"The performance stats are:\",\n",
        "        \"Accuracy:\",stats.rounded[1],\n",
        "         \"Precision:\",stats.rounded[2],\n",
        "         \"Recall:\", stats.rounded[3],\n",
        "          \"F1:\", stats.rounded[4]\n",
        "         )\n",
        ")"
      ],
      "execution_count": 21,
      "outputs": [
        {
          "output_type": "display_data",
          "data": {
            "text/plain": [
              "Confusion Matrix and Statistics\n",
              "\n",
              "          Reference\n",
              "Prediction  0  1\n",
              "         0 27 69\n",
              "         1 13  7\n",
              "                                          \n",
              "               Accuracy : 0.2931          \n",
              "                 95% CI : (0.2123, 0.3848)\n",
              "    No Information Rate : 0.6552          \n",
              "    P-Value [Acc > NIR] : 1               \n",
              "                                          \n",
              "                  Kappa : -0.1749         \n",
              "                                          \n",
              " Mcnemar's Test P-Value : 1.25e-09        \n",
              "                                          \n",
              "            Sensitivity : 0.09211         \n",
              "            Specificity : 0.67500         \n",
              "         Pos Pred Value : 0.35000         \n",
              "         Neg Pred Value : 0.28125         \n",
              "             Prevalence : 0.65517         \n",
              "         Detection Rate : 0.06034         \n",
              "   Detection Prevalence : 0.17241         \n",
              "      Balanced Accuracy : 0.38355         \n",
              "                                          \n",
              "       'Positive' Class : 1               \n",
              "                                          "
            ]
          },
          "metadata": {
            "tags": []
          }
        },
        {
          "output_type": "stream",
          "text": [
            "[1] \"The performance stats are: Accuracy: 0.29 Precision: 0.35 Recall: 0.09 F1: 0.15\"\n"
          ],
          "name": "stdout"
        }
      ]
    },
    {
      "cell_type": "markdown",
      "metadata": {
        "id": "P96MdxAyTThW",
        "colab_type": "text"
      },
      "source": [
        "# Question 2: Interpreting Results [25 Points]\n",
        "\n",
        "In words, please explain what the accuracy, precision and recall statistics that you just calculated mean. \n",
        "\n",
        "\n",
        "### Answer\n",
        "Accuracy tells you that the classifier correctly identified about 29% of the evaluations. Precision tells you that the probability that someone gets high teaching evaluations conditional on the classifier identifying them as having high evaluations is about 35%, thus we are not that confident in the results of our classifier. Finall, recall tells us that our classifier is a poor detector and only would identify about 9% of teachers with high teaching evaluations in a pool of teachers with high teaching evaluations."
      ]
    },
    {
      "cell_type": "markdown",
      "metadata": {
        "id": "t46W8xi-T3oL",
        "colab_type": "text"
      },
      "source": [
        "# Question 3: Feature importance [25 points]\n",
        "\n",
        " Which features predict the excellence in teaching (the target) best?\n",
        "\n",
        "One of the best things about the random forests algorithm is that it allows us to understand which features contributed most to prediction success.\n",
        "\n",
        "Create a plot of the top 10 most important features for the model that you trained in Question 1. Do these results make sense? Why or why not?"
      ]
    },
    {
      "cell_type": "code",
      "metadata": {
        "id": "H1PvMbmFIG0-",
        "colab_type": "code",
        "colab": {
          "base_uri": "https://localhost:8080/",
          "height": 204
        },
        "outputId": "7bcd6c8a-0b21-42d5-ea83-cd4bf49d6a0a"
      },
      "source": [
        "# SCratch work\n",
        "\n",
        "head(importance.data)"
      ],
      "execution_count": 40,
      "outputs": [
        {
          "output_type": "display_data",
          "data": {
            "text/plain": [
              "   words         importance\n",
              "6  cls_perc_eval 16.065768 \n",
              "8  cls_students  12.356155 \n",
              "7  cls_did_eval  10.662828 \n",
              "5  age            9.494835 \n",
              "18 bty_avg        7.161413 \n",
              "14 bty_f2upper    6.645278 "
            ],
            "text/latex": "A data.frame: 6 × 2\n\\begin{tabular}{r|ll}\n  & words & importance\\\\\n  & <fct> & <dbl>\\\\\n\\hline\n\t6 & cls\\_perc\\_eval & 16.065768\\\\\n\t8 & cls\\_students  & 12.356155\\\\\n\t7 & cls\\_did\\_eval  & 10.662828\\\\\n\t5 & age           &  9.494835\\\\\n\t18 & bty\\_avg       &  7.161413\\\\\n\t14 & bty\\_f2upper   &  6.645278\\\\\n\\end{tabular}\n",
            "text/markdown": "\nA data.frame: 6 × 2\n\n| <!--/--> | words &lt;fct&gt; | importance &lt;dbl&gt; |\n|---|---|---|\n| 6 | cls_perc_eval | 16.065768 |\n| 8 | cls_students  | 12.356155 |\n| 7 | cls_did_eval  | 10.662828 |\n| 5 | age           |  9.494835 |\n| 18 | bty_avg       |  7.161413 |\n| 14 | bty_f2upper   |  6.645278 |\n\n",
            "text/html": [
              "<table>\n",
              "<caption>A data.frame: 6 × 2</caption>\n",
              "<thead>\n",
              "\t<tr><th></th><th scope=col>words</th><th scope=col>importance</th></tr>\n",
              "\t<tr><th></th><th scope=col>&lt;fct&gt;</th><th scope=col>&lt;dbl&gt;</th></tr>\n",
              "</thead>\n",
              "<tbody>\n",
              "\t<tr><th scope=row>6</th><td>cls_perc_eval</td><td>16.065768</td></tr>\n",
              "\t<tr><th scope=row>8</th><td>cls_students </td><td>12.356155</td></tr>\n",
              "\t<tr><th scope=row>7</th><td>cls_did_eval </td><td>10.662828</td></tr>\n",
              "\t<tr><th scope=row>5</th><td>age          </td><td> 9.494835</td></tr>\n",
              "\t<tr><th scope=row>18</th><td>bty_avg      </td><td> 7.161413</td></tr>\n",
              "\t<tr><th scope=row>14</th><td>bty_f2upper  </td><td> 6.645278</td></tr>\n",
              "</tbody>\n",
              "</table>\n"
            ]
          },
          "metadata": {
            "tags": []
          }
        }
      ]
    },
    {
      "cell_type": "code",
      "metadata": {
        "id": "9kUWlmE-V65z",
        "colab_type": "code",
        "colab": {
          "base_uri": "https://localhost:8080/",
          "height": 472
        },
        "outputId": "28217d3d-11e7-47c6-a0d4-2e9410da0854"
      },
      "source": [
        "##### YOUR CODE HERE ###################################\n",
        "\n",
        "varimp = rf.evals.train$variable.importance\n",
        "\n",
        "# Extract the importance scores\n",
        "words<-names(varimp)\n",
        "importance<-as.vector(varimp)\n",
        "\n",
        "# Create a data frame with both\n",
        "importance.data = data.frame(words,importance)\n",
        "\n",
        "# Now we need to reorder the data frame in descending order\n",
        "importance.data = importance.data[order(-importance),]\n",
        "# Only look at the ten most important features of the model\n",
        "importtop10 = importance.data[1:10,]\n",
        "\n",
        "# Plot variable importance \n",
        "ggplot(importtop10, \n",
        "       aes(x=reorder(words,importance), y=importance,fill=importance))+ \n",
        "  geom_bar(stat=\"identity\", position=\"dodge\")+ coord_flip()+\n",
        "  ylab(\"Variable Importance\")+\n",
        "  xlab(\"\")+\n",
        "  ggtitle(\"Variable Importance Plot for Predicting High Evals\")+\n",
        "  guides(fill=F)+\n",
        "  scale_fill_gradient(low=\"red\", high=\"blue\")\n",
        "\n",
        "ggsave(\"evalvarimp.png\")\n",
        "##### YOUR CODE HERE ###################################"
      ],
      "execution_count": 26,
      "outputs": [
        {
          "output_type": "stream",
          "text": [
            "Saving 6.67 x 6.67 in image\n",
            "\n"
          ],
          "name": "stderr"
        },
        {
          "output_type": "display_data",
          "data": {
            "image/png": "[encoded data removed]",
            "text/plain": [
              "plot without title"
            ]
          },
          "metadata": {
            "tags": [],
            "image/png": {
              "width": 420,
              "height": 420
            },
            "text/plain": {
              "width": 420,
              "height": 420
            }
          }
        }
      ]
    }
  ]
}