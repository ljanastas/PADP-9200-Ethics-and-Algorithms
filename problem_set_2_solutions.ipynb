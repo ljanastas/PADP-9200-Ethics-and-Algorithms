{
  "nbformat": 4,
  "nbformat_minor": 0,
  "metadata": {
    "colab": {
      "name": " problem-set-2-solutions.ipynb",
      "provenance": [],
      "collapsed_sections": [],
      "authorship_tag": "ABX9TyPfDZLE0jYXqYDo16KCEe0M",
      "include_colab_link": true
    },
    "kernelspec": {
      "name": "ir",
      "display_name": "R"
    }
  },
  "cells": [
    {
      "cell_type": "markdown",
      "metadata": {
        "id": "view-in-github",
        "colab_type": "text"
      },
      "source": [
        "<a href=\"https://colab.research.google.com/github/ljanastas/PADP-9200-Ethics-and-Algorithms/blob/master/problem_set_2_solutions.ipynb\" target=\"_parent\"><img src=\"https://colab.research.google.com/assets/colab-badge.svg\" alt=\"Open In Colab\"/></a>"
      ]
    },
    {
      "cell_type": "markdown",
      "metadata": {
        "id": "nn5_C4astOm7",
        "colab_type": "text"
      },
      "source": [
        "# **PADP 9200** Problem Set 2 Solutions"
      ]
    },
    {
      "cell_type": "markdown",
      "metadata": {
        "id": "oXt98Bv-wI12",
        "colab_type": "text"
      },
      "source": [
        "For this assignment, please submit EITHER a .r or .Rmd file via the ELC by Wednesday, February 13th by 5:00pm. If you would like you can use this .Rmd file as a template and fill in the code.\n",
        "\n",
        "The dataset that we will be working with is the **CDC BRFSS dataset** described below.\n",
        "\n",
        "*The Behavioral Risk Factor Surveillance System (BRFSS) is an annual telephone survey of 350,000 people in the United States. As its name implies, the BRFSS is designed to identify risk factors in the adult population and report emerging health trends. For example, respondents are asked about their diet and weekly physical activity, their HIV/AIDS status, possible tobacco use, and even their level of healthcare coverage. The BRFSS Web site (http://www.cdc.gov/brfss) contains a complete description of the survey, including the research questions that motivate the study and many interesting results derived from the data.\n",
        "\n",
        "We will focus on a random sample of 20,000 people from the BRFSS survey conducted in 2000. While there are over 200 variables in this data set, we will work with a small subset.\n",
        "\n",
        "We begin by loading the data set of 20,000 observations into the R workspace. After launching RStudio, enter the following command.*\n",
        "\n"
      ]
    },
    {
      "cell_type": "code",
      "metadata": {
        "id": "GEQCs2euwPkb",
        "colab_type": "code",
        "outputId": "cb55192c-1e1d-4969-b484-478806d5e008",
        "colab": {
          "base_uri": "https://localhost:8080/",
          "height": 195
        }
      },
      "source": [
        "# Load the dataset\n",
        "source(\"http://www.openintro.org/stat/data/cdc.R\")\n",
        "\n",
        "head(cdc)"
      ],
      "execution_count": 0,
      "outputs": [
        {
          "output_type": "display_data",
          "data": {
            "text/plain": [
              "  genhlth   exerany hlthplan smoke100 height weight wtdesire age gender\n",
              "1 good      0       1        0        70     175    175      77  m     \n",
              "2 good      0       1        1        64     125    115      33  f     \n",
              "3 good      1       1        1        60     105    105      49  f     \n",
              "4 good      1       1        0        66     132    124      42  f     \n",
              "5 very good 0       1        0        61     150    130      55  f     \n",
              "6 very good 1       1        0        64     114    114      55  f     "
            ],
            "text/latex": "A data.frame: 6 × 9\n\\begin{tabular}{r|lllllllll}\n  & genhlth & exerany & hlthplan & smoke100 & height & weight & wtdesire & age & gender\\\\\n  & <fct> & <dbl> & <dbl> & <dbl> & <dbl> & <int> & <int> & <int> & <fct>\\\\\n\\hline\n\t1 & good      & 0 & 1 & 0 & 70 & 175 & 175 & 77 & m\\\\\n\t2 & good      & 0 & 1 & 1 & 64 & 125 & 115 & 33 & f\\\\\n\t3 & good      & 1 & 1 & 1 & 60 & 105 & 105 & 49 & f\\\\\n\t4 & good      & 1 & 1 & 0 & 66 & 132 & 124 & 42 & f\\\\\n\t5 & very good & 0 & 1 & 0 & 61 & 150 & 130 & 55 & f\\\\\n\t6 & very good & 1 & 1 & 0 & 64 & 114 & 114 & 55 & f\\\\\n\\end{tabular}\n",
            "text/markdown": "\nA data.frame: 6 × 9\n\n| <!--/--> | genhlth &lt;fct&gt; | exerany &lt;dbl&gt; | hlthplan &lt;dbl&gt; | smoke100 &lt;dbl&gt; | height &lt;dbl&gt; | weight &lt;int&gt; | wtdesire &lt;int&gt; | age &lt;int&gt; | gender &lt;fct&gt; |\n|---|---|---|---|---|---|---|---|---|---|\n| 1 | good      | 0 | 1 | 0 | 70 | 175 | 175 | 77 | m |\n| 2 | good      | 0 | 1 | 1 | 64 | 125 | 115 | 33 | f |\n| 3 | good      | 1 | 1 | 1 | 60 | 105 | 105 | 49 | f |\n| 4 | good      | 1 | 1 | 0 | 66 | 132 | 124 | 42 | f |\n| 5 | very good | 0 | 1 | 0 | 61 | 150 | 130 | 55 | f |\n| 6 | very good | 1 | 1 | 0 | 64 | 114 | 114 | 55 | f |\n\n",
            "text/html": [
              "<table>\n",
              "<caption>A data.frame: 6 × 9</caption>\n",
              "<thead>\n",
              "\t<tr><th></th><th scope=col>genhlth</th><th scope=col>exerany</th><th scope=col>hlthplan</th><th scope=col>smoke100</th><th scope=col>height</th><th scope=col>weight</th><th scope=col>wtdesire</th><th scope=col>age</th><th scope=col>gender</th></tr>\n",
              "\t<tr><th></th><th scope=col>&lt;fct&gt;</th><th scope=col>&lt;dbl&gt;</th><th scope=col>&lt;dbl&gt;</th><th scope=col>&lt;dbl&gt;</th><th scope=col>&lt;dbl&gt;</th><th scope=col>&lt;int&gt;</th><th scope=col>&lt;int&gt;</th><th scope=col>&lt;int&gt;</th><th scope=col>&lt;fct&gt;</th></tr>\n",
              "</thead>\n",
              "<tbody>\n",
              "\t<tr><th scope=row>1</th><td>good     </td><td>0</td><td>1</td><td>0</td><td>70</td><td>175</td><td>175</td><td>77</td><td>m</td></tr>\n",
              "\t<tr><th scope=row>2</th><td>good     </td><td>0</td><td>1</td><td>1</td><td>64</td><td>125</td><td>115</td><td>33</td><td>f</td></tr>\n",
              "\t<tr><th scope=row>3</th><td>good     </td><td>1</td><td>1</td><td>1</td><td>60</td><td>105</td><td>105</td><td>49</td><td>f</td></tr>\n",
              "\t<tr><th scope=row>4</th><td>good     </td><td>1</td><td>1</td><td>0</td><td>66</td><td>132</td><td>124</td><td>42</td><td>f</td></tr>\n",
              "\t<tr><th scope=row>5</th><td>very good</td><td>0</td><td>1</td><td>0</td><td>61</td><td>150</td><td>130</td><td>55</td><td>f</td></tr>\n",
              "\t<tr><th scope=row>6</th><td>very good</td><td>1</td><td>1</td><td>0</td><td>64</td><td>114</td><td>114</td><td>55</td><td>f</td></tr>\n",
              "</tbody>\n",
              "</table>\n"
            ]
          },
          "metadata": {
            "tags": []
          }
        }
      ]
    },
    {
      "cell_type": "markdown",
      "metadata": {
        "id": "PKsoAz6Vti_8",
        "colab_type": "text"
      },
      "source": [
        "**Question 1**\n",
        "How many observations are there in this data set? How many variables? For each variable, identify its data type (e.g. integer, factor).\n",
        "\n"
      ]
    },
    {
      "cell_type": "code",
      "metadata": {
        "id": "tPnnRR2A3Hc8",
        "colab_type": "code",
        "outputId": "44d49d61-760f-4703-a2e3-c3be8518b489",
        "colab": {
          "base_uri": "https://localhost:8080/",
          "height": 34
        }
      },
      "source": [
        "dim(cdc)"
      ],
      "execution_count": 0,
      "outputs": [
        {
          "output_type": "display_data",
          "data": {
            "text/plain": [
              "[1] 20000     9"
            ],
            "text/latex": "\\begin{enumerate*}\n\\item 20000\n\\item 9\n\\end{enumerate*}\n",
            "text/markdown": "1. 20000\n2. 9\n\n\n",
            "text/html": [
              "<style>\n",
              ".list-inline {list-style: none; margin:0; padding: 0}\n",
              ".list-inline>li {display: inline-block}\n",
              ".list-inline>li:not(:last-child)::after {content: \"\\00b7\"; padding: 0 .5ex}\n",
              "</style>\n",
              "<ol class=list-inline><li>20000</li><li>9</li></ol>\n"
            ]
          },
          "metadata": {
            "tags": []
          }
        }
      ]
    },
    {
      "cell_type": "markdown",
      "metadata": {
        "id": "d16Iy2AYvjVb",
        "colab_type": "text"
      },
      "source": [
        "**Question 2**\n",
        "Create a numerical summary for height and age, and compute the interquartile range for each. Compute the relative frequency distribution for gender and exerany. How many males are in the sample? What proportion of the sample reports being in excellent health?"
      ]
    },
    {
      "cell_type": "code",
      "metadata": {
        "id": "8LFgCQRc3yGp",
        "colab_type": "code",
        "outputId": "27100f1a-f5af-4b21-cb1d-112bcaffdbae",
        "colab": {
          "base_uri": "https://localhost:8080/",
          "height": 84
        }
      },
      "source": [
        "# Create a numerical summary of height and age?\n",
        "summary(cdc$height)\n",
        "summary(cdc$age)"
      ],
      "execution_count": 0,
      "outputs": [
        {
          "output_type": "display_data",
          "data": {
            "text/plain": [
              "   Min. 1st Qu.  Median    Mean 3rd Qu.    Max. \n",
              "  48.00   64.00   67.00   67.18   70.00   93.00 "
            ]
          },
          "metadata": {
            "tags": []
          }
        },
        {
          "output_type": "display_data",
          "data": {
            "text/plain": [
              "   Min. 1st Qu.  Median    Mean 3rd Qu.    Max. \n",
              "  18.00   31.00   43.00   45.07   57.00   99.00 "
            ]
          },
          "metadata": {
            "tags": []
          }
        }
      ]
    },
    {
      "cell_type": "code",
      "metadata": {
        "id": "yz0qLogK4nRx",
        "colab_type": "code",
        "outputId": "2b8608c5-f100-4eb9-c993-1ecd61725def",
        "colab": {
          "base_uri": "https://localhost:8080/",
          "height": 84
        }
      },
      "source": [
        "attach(cdc)\n",
        "summary(height)\n",
        "summary(age)"
      ],
      "execution_count": 0,
      "outputs": [
        {
          "output_type": "display_data",
          "data": {
            "text/plain": [
              "   Min. 1st Qu.  Median    Mean 3rd Qu.    Max. \n",
              "  48.00   64.00   67.00   67.18   70.00   93.00 "
            ]
          },
          "metadata": {
            "tags": []
          }
        },
        {
          "output_type": "display_data",
          "data": {
            "text/plain": [
              "   Min. 1st Qu.  Median    Mean 3rd Qu.    Max. \n",
              "  18.00   31.00   43.00   45.07   57.00   99.00 "
            ]
          },
          "metadata": {
            "tags": []
          }
        }
      ]
    },
    {
      "cell_type": "code",
      "metadata": {
        "id": "hb7L1O0x7gCi",
        "colab_type": "code",
        "outputId": "892b14b2-ad8b-40dd-8236-c0ef14a0fcee",
        "colab": {
          "base_uri": "https://localhost:8080/",
          "height": 84
        }
      },
      "source": [
        "summary(height)[5] # 3rd quartile for height\n",
        "summary(height)[2] # 1st quartile for height"
      ],
      "execution_count": 0,
      "outputs": [
        {
          "output_type": "display_data",
          "data": {
            "text/plain": [
              "3rd Qu. \n",
              "     70 "
            ]
          },
          "metadata": {
            "tags": []
          }
        },
        {
          "output_type": "display_data",
          "data": {
            "text/plain": [
              "1st Qu. \n",
              "     64 "
            ]
          },
          "metadata": {
            "tags": []
          }
        }
      ]
    },
    {
      "cell_type": "code",
      "metadata": {
        "id": "bDjvDma97TNN",
        "colab_type": "code",
        "outputId": "26e3d023-b0a6-4399-ef68-1903217eda8c",
        "colab": {
          "base_uri": "https://localhost:8080/",
          "height": 50
        }
      },
      "source": [
        "# Compute IQR for height and age\n",
        "\n",
        "IQR.height = as.numeric(summary(height)[5] - summary(height)[2])\n",
        "\n",
        "# Create an IQR function \n",
        "compute.IQR = function(x){\n",
        "  iqr.temp = as.numeric(summary(x)[5] - summary(x)[2])\n",
        "  return(iqr.temp)\n",
        "}\n",
        "\n",
        "compute.IQR(age)\n",
        "compute.IQR(height)"
      ],
      "execution_count": 0,
      "outputs": [
        {
          "output_type": "display_data",
          "data": {
            "text/plain": [
              "[1] 26"
            ],
            "text/latex": "26",
            "text/markdown": "26",
            "text/html": [
              "26"
            ]
          },
          "metadata": {
            "tags": []
          }
        },
        {
          "output_type": "display_data",
          "data": {
            "text/plain": [
              "[1] 6"
            ],
            "text/latex": "6",
            "text/markdown": "6",
            "text/html": [
              "6"
            ]
          },
          "metadata": {
            "tags": []
          }
        }
      ]
    },
    {
      "cell_type": "code",
      "metadata": {
        "id": "OTVS-dCY40t4",
        "colab_type": "code",
        "outputId": "ad609619-49c7-4ce7-bbcd-4eca1cfd5a45",
        "colab": {
          "base_uri": "https://localhost:8080/",
          "height": 118
        }
      },
      "source": [
        "# Frequency distribution for gender and exerany\n",
        "# Solution 1\n",
        "table(gender)\n",
        "table(exerany)"
      ],
      "execution_count": 0,
      "outputs": [
        {
          "output_type": "display_data",
          "data": {
            "text/plain": [
              "gender\n",
              "    m     f \n",
              " 9569 10431 "
            ]
          },
          "metadata": {
            "tags": []
          }
        },
        {
          "output_type": "display_data",
          "data": {
            "text/plain": [
              "exerany\n",
              "    0     1 \n",
              " 5086 14914 "
            ]
          },
          "metadata": {
            "tags": []
          }
        }
      ]
    },
    {
      "cell_type": "code",
      "metadata": {
        "id": "nYJRRf7R5XyT",
        "colab_type": "code",
        "outputId": "5df250b9-f4d9-43cb-c889-a34f7ecb28de",
        "colab": {
          "base_uri": "https://localhost:8080/",
          "height": 118
        }
      },
      "source": [
        "# % of each category (Solution 2)\n",
        "table(gender)/length(gender) # % of men and women\n",
        "table(exerany)/length(exerany)"
      ],
      "execution_count": 0,
      "outputs": [
        {
          "output_type": "display_data",
          "data": {
            "text/plain": [
              "gender\n",
              "      m       f \n",
              "0.47845 0.52155 "
            ]
          },
          "metadata": {
            "tags": []
          }
        },
        {
          "output_type": "display_data",
          "data": {
            "text/plain": [
              "exerany\n",
              "     0      1 \n",
              "0.2543 0.7457 "
            ]
          },
          "metadata": {
            "tags": []
          }
        }
      ]
    },
    {
      "cell_type": "code",
      "metadata": {
        "id": "npThKZx95oAE",
        "colab_type": "code",
        "outputId": "04fb0640-9db0-4e92-c493-9b92d9a3cf1d",
        "colab": {
          "base_uri": "https://localhost:8080/",
          "height": 118
        }
      },
      "source": [
        "# % of each category (Solution 3)\n",
        "prop.table(table(gender))\n",
        "prop.table(table(exerany))"
      ],
      "execution_count": 0,
      "outputs": [
        {
          "output_type": "display_data",
          "data": {
            "text/plain": [
              "gender\n",
              "      m       f \n",
              "0.47845 0.52155 "
            ]
          },
          "metadata": {
            "tags": []
          }
        },
        {
          "output_type": "display_data",
          "data": {
            "text/plain": [
              "exerany\n",
              "     0      1 \n",
              "0.2543 0.7457 "
            ]
          },
          "metadata": {
            "tags": []
          }
        }
      ]
    },
    {
      "cell_type": "code",
      "metadata": {
        "id": "TAu4HVhB6X61",
        "colab_type": "code",
        "outputId": "b5f12a32-ab6d-4ff2-9f70-5d26e99790fa",
        "colab": {
          "base_uri": "https://localhost:8080/",
          "height": 67
        }
      },
      "source": [
        "#How many males are in the sample? \n",
        "# 9569 Males in the sample\n",
        "\n",
        "#What proportion of the sample reports being in excellent health? 23.3%\n",
        "table(genhlth)/length(genhlth)"
      ],
      "execution_count": 0,
      "outputs": [
        {
          "output_type": "display_data",
          "data": {
            "text/plain": [
              "genhlth\n",
              "excellent very good      good      fair      poor \n",
              "  0.23285   0.34860   0.28375   0.10095   0.03385 "
            ]
          },
          "metadata": {
            "tags": []
          }
        }
      ]
    },
    {
      "cell_type": "markdown",
      "metadata": {
        "id": "_qwmBXWlvtrt",
        "colab_type": "text"
      },
      "source": [
        "**Question 3**\n",
        "Create a new data frame called under23_and_smoke that contains all observations of respondents under the age of 23 that have smoked 100 cigarettes in their lifetime. Write the command you used to create the new object as the answer to this exercise.\n",
        "\n"
      ]
    },
    {
      "cell_type": "code",
      "metadata": {
        "id": "s9YemN3f9m_y",
        "colab_type": "code",
        "outputId": "ace5dccc-6947-4f9c-aa2a-cf7d4695a9a1",
        "colab": {
          "base_uri": "https://localhost:8080/",
          "height": 67
        }
      },
      "source": [
        "under23_or_smoke = cdc[(age < 23)|(smoke100 ==1),] # This would give me a \n",
        "# subset of people under 23 OR (|) smoke 100 cigarettes or more in their lifetime\n",
        "\n",
        "dim(under23_or_smoke)\n",
        "\n",
        "# People under 23 AND  (&) smoke 100 cigarettes or more \n",
        "under23_and_smoke =  cdc[(age < 23)&(smoke100 ==1),]\n",
        "\n",
        "dim(under23_and_smoke)\n",
        "\n",
        "# Using subset\n",
        "# People under 23 AND  (&) smoke 100 cigarettes or more \n",
        "under23_and_smoke =  subset(cdc,(age < 23)&(smoke100 ==1))\n",
        "dim(under23_and_smoke)\n"
      ],
      "execution_count": 0,
      "outputs": [
        {
          "output_type": "display_data",
          "data": {
            "text/plain": [
              "[1] 10436     9"
            ],
            "text/latex": "\\begin{enumerate*}\n\\item 10436\n\\item 9\n\\end{enumerate*}\n",
            "text/markdown": "1. 10436\n2. 9\n\n\n",
            "text/html": [
              "<style>\n",
              ".list-inline {list-style: none; margin:0; padding: 0}\n",
              ".list-inline>li {display: inline-block}\n",
              ".list-inline>li:not(:last-child)::after {content: \"\\00b7\"; padding: 0 .5ex}\n",
              "</style>\n",
              "<ol class=list-inline><li>10436</li><li>9</li></ol>\n"
            ]
          },
          "metadata": {
            "tags": []
          }
        },
        {
          "output_type": "display_data",
          "data": {
            "text/plain": [
              "[1] 620   9"
            ],
            "text/latex": "\\begin{enumerate*}\n\\item 620\n\\item 9\n\\end{enumerate*}\n",
            "text/markdown": "1. 620\n2. 9\n\n\n",
            "text/html": [
              "<style>\n",
              ".list-inline {list-style: none; margin:0; padding: 0}\n",
              ".list-inline>li {display: inline-block}\n",
              ".list-inline>li:not(:last-child)::after {content: \"\\00b7\"; padding: 0 .5ex}\n",
              "</style>\n",
              "<ol class=list-inline><li>620</li><li>9</li></ol>\n"
            ]
          },
          "metadata": {
            "tags": []
          }
        },
        {
          "output_type": "display_data",
          "data": {
            "text/plain": [
              "[1] 620   9"
            ],
            "text/latex": "\\begin{enumerate*}\n\\item 620\n\\item 9\n\\end{enumerate*}\n",
            "text/markdown": "1. 620\n2. 9\n\n\n",
            "text/html": [
              "<style>\n",
              ".list-inline {list-style: none; margin:0; padding: 0}\n",
              ".list-inline>li {display: inline-block}\n",
              ".list-inline>li:not(:last-child)::after {content: \"\\00b7\"; padding: 0 .5ex}\n",
              "</style>\n",
              "<ol class=list-inline><li>620</li><li>9</li></ol>\n"
            ]
          },
          "metadata": {
            "tags": []
          }
        }
      ]
    },
    {
      "cell_type": "markdown",
      "metadata": {
        "id": "47R2pXjjvt5x",
        "colab_type": "text"
      },
      "source": [
        "**Question 4**\n",
        "Let’s consider a new variable: the difference between desired weight (wtdesire) and current weight (weight). Create this new variable by subtracting the two columns in the data frame and assigning them to a new object called wdiff.\n",
        "\n",
        "What type of data is wdiff? If an observation wdiff is 0, what does this mean about the person’s weight and desired weight. What if wdiff is positive or negative?"
      ]
    },
    {
      "cell_type": "code",
      "metadata": {
        "id": "06sfNyya_7ko",
        "colab_type": "code",
        "outputId": "0b8febd2-f11a-45c1-a67a-3bb4951af9a5",
        "colab": {
          "base_uri": "https://localhost:8080/",
          "height": 470
        }
      },
      "source": [
        "wdiff = wtdesire - weight\n",
        "summary(wdiff)\n",
        "plot(weight,wdiff)"
      ],
      "execution_count": 0,
      "outputs": [
        {
          "output_type": "display_data",
          "data": {
            "text/plain": [
              "   Min. 1st Qu.  Median    Mean 3rd Qu.    Max. \n",
              "-300.00  -21.00  -10.00  -14.59    0.00  500.00 "
            ]
          },
          "metadata": {
            "tags": []
          }
        },
        {
          "output_type": "display_data",
          "data": {
            "image/png": "[encoded data removed]",
            "text/plain": [
              "plot without title"
            ]
          },
          "metadata": {
            "tags": [],
            "image/png": {
              "width": 420,
              "height": 420
            },
            "text/plain": {
              "width": 420,
              "height": 420
            }
          }
        }
      ]
    },
    {
      "cell_type": "markdown",
      "metadata": {
        "id": "TMbT9lPPvuDK",
        "colab_type": "text"
      },
      "source": [
        "\n",
        "\n",
        "*   What type of data is wdiff? *Answer*: This is numeric data.\n",
        "*   If an observation wdiff is 0, what does this mean about the person’s weight and desired weight. *Answer*: This means that they are at their desired weight.\n",
        "*   What if wdiff is positive or negative? *Answer*: If positive wdiff means that they want to gain weight. If negative this means that they want to LOSE weight.\n",
        "\n",
        "\n",
        "\n"
      ]
    },
    {
      "cell_type": "markdown",
      "metadata": {
        "id": "c_b_BqxTCFMX",
        "colab_type": "text"
      },
      "source": [
        "# Note about Boolean operators\n",
        "\n",
        "\n",
        "*   \"==\" - is equal to?\n",
        "*   \"|\" - or\n",
        "*   \"&\" - and\n",
        "*   \"<\", \">\" - less than, greater than.\n",
        "*   \"<=\", \">=\" - less than or equalts, greater than or equals.\n",
        "\n",
        "\n",
        "\n"
      ]
    },
    {
      "cell_type": "code",
      "metadata": {
        "id": "h1uLJTnDBS4m",
        "colab_type": "code",
        "outputId": "322ee435-d6e1-4225-ce8b-ae5ae09693e5",
        "colab": {
          "base_uri": "https://localhost:8080/",
          "height": 84
        }
      },
      "source": [
        "\n",
        "# Just for fun, summarize wdiff for men and women\n",
        "summary(wdiff[gender == \"m\"]) # Wdiff for men\n",
        "summary(wdiff[gender == \"f\"]) # wdiff for women\n",
        " "
      ],
      "execution_count": 0,
      "outputs": [
        {
          "output_type": "display_data",
          "data": {
            "text/plain": [
              "   Min. 1st Qu.  Median    Mean 3rd Qu.    Max. \n",
              "-300.00  -20.00   -5.00  -10.71    0.00  500.00 "
            ]
          },
          "metadata": {
            "tags": []
          }
        },
        {
          "output_type": "display_data",
          "data": {
            "text/plain": [
              "   Min. 1st Qu.  Median    Mean 3rd Qu.    Max. \n",
              "-300.00  -27.00  -10.00  -18.15    0.00   83.00 "
            ]
          },
          "metadata": {
            "tags": []
          }
        }
      ]
    },
    {
      "cell_type": "markdown",
      "metadata": {
        "id": "ArNl2u0tvuMh",
        "colab_type": "text"
      },
      "source": [
        "**Question 5**\n",
        "Health insurance companies are very interested in predicting who is more likely to be a smoker and want you to build a model that predicts whether someone is a smoker using the smoke100 as the target or outcome and all of the other variables as features or covariates.\n",
        "\n",
        "To start this process, you have to divide your data into a training and a testing dataset. Please create two dataframes:\n",
        "\n",
        "smoker_train which contains a random sample of 50% of the observations that you will use to train the algorithms\n",
        "\n",
        "smoker_test which contains a random sample of the remaining observations which will be used to assess performance of your algorithms.\n",
        "\n",
        "Please report the code used to produce these two datasets.\n",
        "\n"
      ]
    },
    {
      "cell_type": "code",
      "metadata": {
        "id": "1DMCLtzEDFE-",
        "colab_type": "code",
        "outputId": "0ddf20b3-8806-4c9e-e02b-a60d4612ac7b",
        "colab": {
          "base_uri": "https://localhost:8080/",
          "height": 50
        }
      },
      "source": [
        "index = sample(1:20000) # Generates the randomized indices.\n",
        "# Create the training data\n",
        "smoker_train = cdc[index[1:9999],] # Training data\n",
        "smoker_test = cdc[index[10000:20000],] # Test data\n",
        "\n",
        "dim(smoker_train)\n",
        "dim(smoker_test)"
      ],
      "execution_count": 0,
      "outputs": [
        {
          "output_type": "display_data",
          "data": {
            "text/plain": [
              "[1] 9999    9"
            ],
            "text/latex": "\\begin{enumerate*}\n\\item 9999\n\\item 9\n\\end{enumerate*}\n",
            "text/markdown": "1. 9999\n2. 9\n\n\n",
            "text/html": [
              "<style>\n",
              ".list-inline {list-style: none; margin:0; padding: 0}\n",
              ".list-inline>li {display: inline-block}\n",
              ".list-inline>li:not(:last-child)::after {content: \"\\00b7\"; padding: 0 .5ex}\n",
              "</style>\n",
              "<ol class=list-inline><li>9999</li><li>9</li></ol>\n"
            ]
          },
          "metadata": {
            "tags": []
          }
        },
        {
          "output_type": "display_data",
          "data": {
            "text/plain": [
              "[1] 10001     9"
            ],
            "text/latex": "\\begin{enumerate*}\n\\item 10001\n\\item 9\n\\end{enumerate*}\n",
            "text/markdown": "1. 10001\n2. 9\n\n\n",
            "text/html": [
              "<style>\n",
              ".list-inline {list-style: none; margin:0; padding: 0}\n",
              ".list-inline>li {display: inline-block}\n",
              ".list-inline>li:not(:last-child)::after {content: \"\\00b7\"; padding: 0 .5ex}\n",
              "</style>\n",
              "<ol class=list-inline><li>10001</li><li>9</li></ol>\n"
            ]
          },
          "metadata": {
            "tags": []
          }
        }
      ]
    },
    {
      "cell_type": "markdown",
      "metadata": {
        "id": "vKEePEijvuVJ",
        "colab_type": "text"
      },
      "source": [
        "**Question 6** Using the smoker_train data ONLY, estimate a linear regression model based on the prediction model mentioned in Question 5 and report the regression table in your results.\n",
        "\n",
        "In the code below I provide an example of how to estimate a regression model and report results.\n",
        "\n"
      ]
    },
    {
      "cell_type": "code",
      "metadata": {
        "id": "hM4SgAWDG_ay",
        "colab_type": "code",
        "outputId": "7fd99718-0806-4132-cdce-e67b2d13aede",
        "colab": {
          "base_uri": "https://localhost:8080/",
          "height": 487
        }
      },
      "source": [
        "## CODE FOR QUESTION 6\n",
        "\n",
        "# Example of a regression model using the full dataset\n",
        "#sample.model = lm(smoke100~exerany+height + weight, data=cdc) # This estmiates the model\n",
        "\n",
        "# This produces the output\n",
        "#summary(sample.model)\n",
        "\n",
        "# Estimate a linear model using only the smoker_train dataset\n",
        "smoker.train.model = lm(smoke100 ~ ., data = smoker_train)\n",
        "summary(smoker.train.model)\n"
      ],
      "execution_count": 0,
      "outputs": [
        {
          "output_type": "display_data",
          "data": {
            "text/plain": [
              "\n",
              "Call:\n",
              "lm(formula = smoke100 ~ ., data = smoker_train)\n",
              "\n",
              "Residuals:\n",
              "    Min      1Q  Median      3Q     Max \n",
              "-0.8908 -0.4535 -0.3035  0.5027  0.8043 \n",
              "\n",
              "Coefficients:\n",
              "                   Estimate Std. Error t value Pr(>|t|)    \n",
              "(Intercept)      -0.2596760  0.1257299  -2.065   0.0389 *  \n",
              "genhlthvery good  0.0809994  0.0132610   6.108 1.05e-09 ***\n",
              "genhlthgood       0.1200777  0.0141023   8.515  < 2e-16 ***\n",
              "genhlthfair       0.1418924  0.0191118   7.424 1.23e-13 ***\n",
              "genhlthpoor       0.2568843  0.0291465   8.814  < 2e-16 ***\n",
              "exerany          -0.0029418  0.0116081  -0.253   0.7999    \n",
              "hlthplan         -0.0792350  0.0150808  -5.254 1.52e-07 ***\n",
              "height            0.0121799  0.0020073   6.068 1.34e-09 ***\n",
              "weight            0.0001954  0.0002102   0.929   0.3527    \n",
              "wtdesire         -0.0014769  0.0003474  -4.251 2.15e-05 ***\n",
              "age               0.0031431  0.0003026  10.386  < 2e-16 ***\n",
              "genderf          -0.0952708  0.0151157  -6.303 3.05e-10 ***\n",
              "---\n",
              "Signif. codes:  0 ‘***’ 0.001 ‘**’ 0.01 ‘*’ 0.05 ‘.’ 0.1 ‘ ’ 1\n",
              "\n",
              "Residual standard error: 0.4887 on 9987 degrees of freedom\n",
              "Multiple R-squared:  0.04217,\tAdjusted R-squared:  0.04111 \n",
              "F-statistic: 39.97 on 11 and 9987 DF,  p-value: < 2.2e-16\n"
            ]
          },
          "metadata": {
            "tags": []
          }
        }
      ]
    }
  ]
}